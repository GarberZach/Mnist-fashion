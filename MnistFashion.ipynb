{
  "nbformat": 4,
  "nbformat_minor": 0,
  "metadata": {
    "colab": {
      "name": "MnistFashion.ipynb",
      "provenance": []
    },
    "kernelspec": {
      "name": "python3",
      "display_name": "Python 3"
    }
  },
  "cells": [
    {
      "cell_type": "markdown",
      "metadata": {
        "id": "d1vP3DZn52kq",
        "colab_type": "text"
      },
      "source": [
        "distinguish items of clothing from one another using mnist dataset"
      ]
    },
    {
      "cell_type": "markdown",
      "metadata": {
        "id": "PbpRYP-k6-QA",
        "colab_type": "text"
      },
      "source": [
        "**Imports: **"
      ]
    },
    {
      "cell_type": "code",
      "metadata": {
        "id": "x_owFzAd7B5P",
        "colab_type": "code",
        "colab": {}
      },
      "source": [
        "import tensorflow as tf\n",
        "from tensorflow import keras\n",
        "import matplotlib.pyplot as plt\n",
        "from keras.models import Sequential\n",
        "from keras.layers import Dense\n",
        "from keras.utils import np_utils"
      ],
      "execution_count": 1,
      "outputs": []
    },
    {
      "cell_type": "markdown",
      "metadata": {
        "id": "gdh0udYe7Ujb",
        "colab_type": "text"
      },
      "source": [
        "dataset\n"
      ]
    },
    {
      "cell_type": "code",
      "metadata": {
        "id": "XRQ91PB07uva",
        "colab_type": "code",
        "colab": {
          "base_uri": "https://localhost:8080/",
          "height": 427
        },
        "outputId": "2160fbbc-abd1-4b95-f582-ca60c6234856"
      },
      "source": [
        "data = keras.datasets.fashion_mnist\n",
        "(X_train, Y_train), (X_test, Y_test) = data.load_data()\n",
        "\n",
        "plt.imshow(X_train[59987], cmap = 'gray')\n",
        "plt.show\n",
        "\n",
        "X_train = X_train.reshape(60000, 784) # reshape 60,000 28 x 28 matrices into 60,000 784-length vectors.\n",
        "X_test = X_test.reshape(10000, 784)   # reshape 10,000 28 x 28 matrices into 10,000 784-length vectors.\n",
        "\n",
        "X_train = X_train.astype('float32')   # change integers to 32-bit floating point numbers\n",
        "X_test = X_test.astype('float32')\n",
        "\n",
        "X_train /= 255                        # normalize each value for each pixel for the entire vector for each input\n",
        "X_test /= 255\n",
        "\n",
        "print(\"Training matrix shape\", X_train.shape)\n",
        "print(\"Testing matrix shape\", X_test.shape)\n",
        "\n",
        "#creates classes for loss function\n",
        "\n",
        "nb_classes = 10 # number of unique digits\n",
        "\n",
        "Y_train = np_utils.to_categorical(Y_train, nb_classes)\n",
        "Y_test = np_utils.to_categorical(Y_test, nb_classes)\n",
        "\n",
        "class_names = [\"Top\", \"Trousser\", \"Pullover\", \"Dress\", \"Coat\", \"Sandal\", \"Shirt\",\"Sneaker\", \"Bag\"]\n",
        "\n"
      ],
      "execution_count": 2,
      "outputs": [
        {
          "output_type": "stream",
          "text": [
            "Downloading data from https://storage.googleapis.com/tensorflow/tf-keras-datasets/train-labels-idx1-ubyte.gz\n",
            "32768/29515 [=================================] - 0s 0us/step\n",
            "Downloading data from https://storage.googleapis.com/tensorflow/tf-keras-datasets/train-images-idx3-ubyte.gz\n",
            "26427392/26421880 [==============================] - 0s 0us/step\n",
            "Downloading data from https://storage.googleapis.com/tensorflow/tf-keras-datasets/t10k-labels-idx1-ubyte.gz\n",
            "8192/5148 [===============================================] - 0s 0us/step\n",
            "Downloading data from https://storage.googleapis.com/tensorflow/tf-keras-datasets/t10k-images-idx3-ubyte.gz\n",
            "4423680/4422102 [==============================] - 0s 0us/step\n",
            "Training matrix shape (60000, 784)\n",
            "Testing matrix shape (10000, 784)\n"
          ],
          "name": "stdout"
        },
        {
          "output_type": "display_data",
          "data": {
            "image/png": "[encoded data removed]",
            "text/plain": [
              "<Figure size 432x288 with 1 Axes>"
            ]
          },
          "metadata": {
            "tags": [],
            "needs_background": "light"
          }
        }
      ]
    },
    {
      "cell_type": "markdown",
      "metadata": {
        "id": "382MW-TW8zW-",
        "colab_type": "text"
      },
      "source": [
        "initilize model"
      ]
    },
    {
      "cell_type": "code",
      "metadata": {
        "id": "jh95yXjp82AB",
        "colab_type": "code",
        "colab": {}
      },
      "source": [
        "classifier = Sequential()\n",
        "\n",
        "classifier.add(Dense(units = 128, use_bias = True, bias_initializer='zeros', input_shape = (784, ), activation='relu'))\n",
        "classifier.add(Dense(128, use_bias=True, bias_initializer='zeros', activation='relu'))\n",
        "classifier.add(Dense(10, activation='softmax'))"
      ],
      "execution_count": 3,
      "outputs": []
    },
    {
      "cell_type": "markdown",
      "metadata": {
        "id": "Z9sVdGAhAU1D",
        "colab_type": "text"
      },
      "source": [
        "compile model(loss and optimizer)"
      ]
    },
    {
      "cell_type": "code",
      "metadata": {
        "id": "HZnbdMRVAVMw",
        "colab_type": "code",
        "colab": {}
      },
      "source": [
        "classifier.compile(optimizer = tf.keras.optimizers.SGD(learning_rate=.1, momentum= 0.04), loss = 'categorical_crossentropy', metrics= ['accuracy'])"
      ],
      "execution_count": 4,
      "outputs": []
    },
    {
      "cell_type": "markdown",
      "metadata": {
        "id": "JgV7PfNcA1gd",
        "colab_type": "text"
      },
      "source": [
        "Train model"
      ]
    },
    {
      "cell_type": "code",
      "metadata": {
        "id": "ZwBaMo29A4lc",
        "colab_type": "code",
        "colab": {
          "base_uri": "https://localhost:8080/",
          "height": 196
        },
        "outputId": "94fe07b8-b7f7-4b1e-c7fc-e23caf98e915"
      },
      "source": [
        "classifier.fit(X_train, Y_train, batch_size = 128, epochs = 5)"
      ],
      "execution_count": 5,
      "outputs": [
        {
          "output_type": "stream",
          "text": [
            "Epoch 1/5\n",
            "469/469 [==============================] - 1s 3ms/step - loss: 0.6639 - accuracy: 0.7671\n",
            "Epoch 2/5\n",
            "469/469 [==============================] - 1s 3ms/step - loss: 0.4486 - accuracy: 0.8391\n",
            "Epoch 3/5\n",
            "469/469 [==============================] - 1s 3ms/step - loss: 0.3953 - accuracy: 0.8574\n",
            "Epoch 4/5\n",
            "469/469 [==============================] - 1s 3ms/step - loss: 0.3671 - accuracy: 0.8659\n",
            "Epoch 5/5\n",
            "469/469 [==============================] - 1s 3ms/step - loss: 0.3476 - accuracy: 0.8739\n"
          ],
          "name": "stdout"
        },
        {
          "output_type": "execute_result",
          "data": {
            "text/plain": [
              "<tensorflow.python.keras.callbacks.History at 0x7f488d2821d0>"
            ]
          },
          "metadata": {
            "tags": []
          },
          "execution_count": 5
        }
      ]
    },
    {
      "cell_type": "code",
      "metadata": {
        "id": "k74jSgT3N2eE",
        "colab_type": "code",
        "colab": {
          "base_uri": "https://localhost:8080/",
          "height": 50
        },
        "outputId": "5a30a93c-b193-4f2c-ba14-c32267637141"
      },
      "source": [
        "score = classifier.evaluate(X_test, Y_test)\n",
        "print('loss: acc: ', score)"
      ],
      "execution_count": 6,
      "outputs": [
        {
          "output_type": "stream",
          "text": [
            "313/313 [==============================] - 0s 972us/step - loss: 0.4198 - accuracy: 0.8521\n",
            "loss: acc:  [0.4198247492313385, 0.8521000146865845]\n"
          ],
          "name": "stdout"
        }
      ]
    },
    {
      "cell_type": "code",
      "metadata": {
        "id": "HdymleYurqxR",
        "colab_type": "code",
        "colab": {}
      },
      "source": [
        ""
      ],
      "execution_count": 6,
      "outputs": []
    }
  ]
}